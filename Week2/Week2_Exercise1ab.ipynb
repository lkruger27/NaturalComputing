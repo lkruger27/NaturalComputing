{
 "cells": [
  {
   "cell_type": "markdown",
   "id": "f3286e6a",
   "metadata": {},
   "source": [
    "## Computations for exercise 1"
   ]
  },
  {
   "cell_type": "code",
   "execution_count": 11,
   "id": "4f6d5878",
   "metadata": {},
   "outputs": [
    {
     "name": "stdout",
     "output_type": "stream",
     "text": [
      "837.965774544325\n"
     ]
    }
   ],
   "source": [
    "import math\n",
    "\n",
    "\n",
    "def fitness(p1, p2):\n",
    "    return -p1*math.sin(math.sqrt(abs(p1))) - p2*math.sin(math.sqrt(abs(p2)))\n",
    "    \n",
    "#sanity check\n",
    "print(fitness(-420.9687, -420.9687))"
   ]
  },
  {
   "cell_type": "markdown",
   "id": "f02597e8",
   "metadata": {},
   "source": [
    "a) Compute the fitness of each particle"
   ]
  },
  {
   "cell_type": "code",
   "execution_count": 14,
   "id": "21dc05ff",
   "metadata": {},
   "outputs": [
    {
     "name": "stdout",
     "output_type": "stream",
     "text": [
      "730.3562005821021\n",
      "807.9150929576671\n",
      "829.0117583869608\n"
     ]
    }
   ],
   "source": [
    "for i in range(0, len(x)):\n",
    "    print(fitness(x[i][0], x[i][1]))"
   ]
  },
  {
   "cell_type": "markdown",
   "id": "b3ac3150",
   "metadata": {},
   "source": [
    "b) Compute the positions and fitness after one iteration of the PSO algorithm"
   ]
  },
  {
   "cell_type": "code",
   "execution_count": 32,
   "id": "9ace4f07",
   "metadata": {},
   "outputs": [
    {
     "name": "stdout",
     "output_type": "stream",
     "text": [
      "---------w = 2----------\n",
      "Calculated updated positions:[[-500. -500.]\n",
      " [-500. -500.]\n",
      " [-500. -500.]]\n",
      "(-400, -400)\n",
      "fitness particle0: 730.3562005821021\n",
      "(-410, -410)\n",
      "fitness particle1: 807.9150929576671\n",
      "(-415, -415)\n",
      "fitness particle2: 829.0117583869608\n",
      "---------w = 0.5----------\n",
      "Calculated updated positions:[[-432.5 -432.5]\n",
      " [-437.5 -437.5]\n",
      " [-440.  -440. ]]\n",
      "(-432.5, -432.5)\n",
      "fitness particle0: 804.4822309250023\n",
      "(-410.0, -410.0)\n",
      "fitness particle1: 807.9150929576671\n",
      "(-415.0, -415.0)\n",
      "fitness particle2: 829.0117583869608\n",
      "---------w = 0.1----------\n",
      "Calculated updated positions:[[-412.5 -412.5]\n",
      " [-417.5 -417.5]\n",
      " [-420.  -420. ]]\n",
      "(-412.5, -412.5)\n",
      "fitness particle0: 819.9905472762648\n",
      "(-417.5, -417.5)\n",
      "fitness particle1: 834.9351365389027\n",
      "(-420.0, -420.0)\n",
      "fitness particle2: 837.7290352197082\n"
     ]
    }
   ],
   "source": [
    "import numpy as np\n",
    "\n",
    "def keep_within_bounds(x):\n",
    "    if x < -500:\n",
    "        return -500\n",
    "    elif x > 500:\n",
    "        return 500\n",
    "    return x\n",
    "\n",
    "def update_rule(x, x_star, social_best, v, w):\n",
    "    a1 = 1\n",
    "    a2 = 1\n",
    "    r1 = 0.5\n",
    "    r2 = 0.5\n",
    "    newv = []\n",
    "    for j in range(0, len(v)):\n",
    "        newv.append(w*v[j] + a1*r1*(x_star[j] - x[j]) + a1*r2*(social_best - x[j]))\n",
    "    return np.array(newv)\n",
    "\n",
    "def update_pos(x, v):\n",
    "    newx = x + v\n",
    "    for j in newx:\n",
    "        j[0] = keep_within_bounds(j[0])\n",
    "        j[1] = keep_within_bounds(j[1])\n",
    "    return newx\n",
    "\n",
    "def update_local_best(x, xnew):\n",
    "    newx = []\n",
    "    for i in range(0, len(x)):\n",
    "        if fitness(x[i][0], x[i][1]) < fitness(xnew[i][0], xnew[i][1]):\n",
    "            newx.append(xnew[i])\n",
    "        else:\n",
    "            newx.append(x[i])\n",
    "    return np.array(newx)\n",
    "\n",
    "def PSO_one_it(x, x_star, social_best, v, w):\n",
    "    v = update_rule(x, x_star, social_best, v, w)\n",
    "    newx = update_pos(x, v)\n",
    "    x = update_local_best(x, newx)\n",
    "    print(\"Calculated updated positions:\" + str(newx))\n",
    "    for i in range(0, len(x)):\n",
    "        print(\"(\" + str(x[i][0]) + \", \" + str(x[i][1]) + \")\")\n",
    "        print(\"fitness particle\" + str(i) + \": \" + str(fitness(x[i][0], x[i][1])))\n",
    "    \n",
    "x = np.array([[-400, -400], [-410, -410], [-415, -415]])\n",
    "x_star = np.array([[-400, -400], [-410, -410], [-415, -415]])\n",
    "social_best = np.array([-415, -415])\n",
    "v = np.array([[-50, -50], [-50, -50], [-50, -50]])\n",
    "\n",
    "for w in [2, 0.5, 0.1]:\n",
    "    print(\"---------w = \" + str(w) + \"----------\")\n",
    "    PSO_one_it(x, x_star, social_best, v, w)"
   ]
  }
 ],
 "metadata": {
  "kernelspec": {
   "display_name": "Python 3 (ipykernel)",
   "language": "python",
   "name": "python3"
  },
  "language_info": {
   "codemirror_mode": {
    "name": "ipython",
    "version": 3
   },
   "file_extension": ".py",
   "mimetype": "text/x-python",
   "name": "python",
   "nbconvert_exporter": "python",
   "pygments_lexer": "ipython3",
   "version": "3.7.9"
  }
 },
 "nbformat": 4,
 "nbformat_minor": 5
}

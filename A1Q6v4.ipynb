{
 "cells": [
  {
   "cell_type": "markdown",
   "id": "0d2a2924",
   "metadata": {},
   "source": [
    "# EC: Exercise 6 (Memetic algorithms vs. simple EAs)"
   ]
  },
  {
   "cell_type": "code",
   "execution_count": 1,
   "id": "02784f70",
   "metadata": {},
   "outputs": [],
   "source": [
    "import numpy as np\n",
    "import numpy.random as rnd\n",
    "import matplotlib.pyplot as plt\n",
    "from abc import ABC, abstractmethod\n",
    "from timeit import default_timer as timer\n",
    "import copy"
   ]
  },
  {
   "cell_type": "code",
   "execution_count": 2,
   "id": "c0ad2f46",
   "metadata": {},
   "outputs": [],
   "source": [
    "#loading in the given .txt data:\n",
    "txt_data = np.loadtxt(\"file-tsp.txt\", unpack = False)\n",
    "txt_data_size = np.shape(txt_data)[0]"
   ]
  },
  {
   "cell_type": "markdown",
   "id": "5b13b678",
   "metadata": {},
   "source": [
    "**(a)**<br>\n",
    "Evolutionary algorithm abstract base class:"
   ]
  },
  {
   "cell_type": "code",
   "execution_count": 3,
   "id": "38a328e0",
   "metadata": {},
   "outputs": [],
   "source": [
    "class ABC_EA(ABC):\n",
    "    \n",
    "    @abstractmethod\n",
    "    def __update_fitness(self):\n",
    "        '''\n",
    "            Update the fitness value for the current value of _d_pop.\n",
    "        '''\n",
    "        ...\n",
    "\n",
    "       \n",
    "    def __init__(self, pop_size, init_pop, cross_prob, mut_prob, rng):\n",
    "        '''\n",
    "            Initialize all the necessary values.\n",
    "            Parameters:\n",
    "            ----------------------------------\n",
    "            pop_size: [positive int]\n",
    "                Population size.\n",
    "                \n",
    "            init_pop: [array]\n",
    "                Initial population.\n",
    "                \n",
    "            cross_prob: [float between 0 and 1]\n",
    "                Probability for crossover to occur.\n",
    "                \n",
    "            mut_prob: [float between 0 and 1]\n",
    "                Probability for mutation to occur.\n",
    "            \n",
    "            rng: [random number generator].\n",
    "        \n",
    "        '''\n",
    "        assert 0 <= cross_prob, mut_prob <= 1\n",
    "              # random number generator:\n",
    "        self._d_rng = rng\n",
    "              # population size:\n",
    "        self._d_pop_size = pop_size\n",
    "              # population:\n",
    "        self._d_pop = init_pop\n",
    "              # population fitness values:\n",
    "        self._d_fitness = np.zeros(pop_size)\n",
    "              # crossover probability:\n",
    "        self._d_cross_prob = cross_prob\n",
    "              # mutability probability:\n",
    "        self._d_mut_prob = mut_prob\n",
    "              # array containing the max fitness each epoch:\n",
    "        self._d_max_fit = np.array([])\n",
    "              # array containing the avg. fitness each epoch:\n",
    "        self._d_avg_fit = np.array([])\n",
    "              # time taken by optimization:\n",
    "        self._d_time = 0.\n",
    "              # updating the fitness:\n",
    "        self.__update_fitness()\n",
    "        \n",
    "    def update_hyps(cross_prob = 'UNDEF', mut_prob = 'UNDEF'):\n",
    "        '''\n",
    "            Changes the hyper parameters\n",
    "            Parameters:\n",
    "            ----------------------------------\n",
    "            cross_prob: [float between 0 and 1]\n",
    "                Probability for crossover to occur.\n",
    "                \n",
    "            mut_prob: [float between 0 and 1]\n",
    "                Probability for mutation to occur.            \n",
    "        '''\n",
    "        if cross_prob != 'UNDEF':\n",
    "            assert 0 <= cross_prob <= 1\n",
    "            self._d_cross_prob = cross_prob\n",
    "        if mut_prob != 'UNDEF':\n",
    "            assert 0 <= mut_prob <= 1\n",
    "            self._d_mut_prob = mut_prob\n",
    "            \n",
    "    \n",
    "    def __select(self, numb):\n",
    "        '''\n",
    "            Select `numb' members from the current population.\n",
    "            Parameters:\n",
    "            ----------------------------------\n",
    "            numb: [positive int]\n",
    "                Number of members to generate.\n",
    "        '''\n",
    "        return self._d_rng.choice(self._d_pop, numb, \\\n",
    "                    p = (self._d_fitness) / np.sum(self._d_fitness))\n",
    "        \n",
    "         # to be defined:    \n",
    "    @abstractmethod\n",
    "    def __crossover(self, parents, prob):\n",
    "        '''\n",
    "            Perform crossover on `parents'.\n",
    "            Parameters:\n",
    "            ----------------------------------\n",
    "            parents: [Array of elements of the same type as _d_pop].\n",
    "                        \n",
    "            prob: [float between 0 and 1]\n",
    "                The crossover probability.\n",
    "        '''\n",
    "        ...\n",
    "    \n",
    "    \n",
    "    @abstractmethod\n",
    "    def __mutate(self, children, prob):\n",
    "        '''\n",
    "            Perform a mutation on `children' with probability `prob'.\n",
    "            Parameters:\n",
    "            ----------------------------------\n",
    "            children: [Array of elements of the same type as _d_pop].\n",
    "            \n",
    "            prob: [float between 0 and 1]\n",
    "                The mutation probability.\n",
    "        '''\n",
    "        ...\n",
    "\n",
    "    def __give_additional(self):\n",
    "        '''\n",
    "            Print / plot additional information, if the plot option is given in optimize.\n",
    "        '''\n",
    "        pass\n",
    "    \n",
    "    \n",
    "    def optimize(self, maxiter, crit = 0, mut_prob = -1, cross_prob = -1,\n",
    "                 ret = False, plot = False, title = '', time = False, time_limit = 'inf'):\n",
    "        '''\n",
    "            Perform the optimization algorithm, until either maxiter epochs have \n",
    "            passed, or until the absolute difference of the average fitness \n",
    "            between consecutive epochs does not change more than `crit'.\n",
    "            Parameters:\n",
    "            ----------------------------------\n",
    "            maxiter: [positive int]\n",
    "                Maximum number of iterations to perform.\n",
    "                \n",
    "            crit: [non-negative float]\n",
    "                Stopping criterion.\n",
    "                \n",
    "            mut_prob: [float between 0 and 1]\n",
    "                Mutation probability (for the default -1 we pick standard value).\n",
    "            \n",
    "            cross_prob: [float between 0 and 1]\n",
    "                Crossover probability (for the default -1 we pick standard value).\n",
    "                \n",
    "            ret: [boolean]\n",
    "                If true, we return d_avg_fit, d_max_fit, the individual with the\n",
    "                highest firness and whether we stopped early.\n",
    "                \n",
    "            plot: [boolean]\n",
    "                Decides whether we plot the progress.\n",
    "                \n",
    "            title: [string]\n",
    "                The title of the plot.\n",
    "            \n",
    "            time: [bool]\n",
    "                If true, prints the total time taken by the optimization.\n",
    "                \n",
    "            time_limit: [positive number | 'inf']\n",
    "                Stops the current run when it starts to exceed time_limit.\n",
    "        '''\n",
    "          # start timer:\n",
    "        start = timer()\n",
    "        \n",
    "          # check input:\n",
    "        assert maxiter >= 0\n",
    "        \n",
    "        start_length = np.size(self._d_avg_fit)\n",
    "        \n",
    "        temp_avg_fit = np.zeros(maxiter, dtype = int)\n",
    "        temp_max_fit = np.zeros(maxiter, dtype = int)\n",
    "        \n",
    "        stopped_at = maxiter\n",
    "        crit_achieved = False\n",
    "        \n",
    "        if start_length > 2 and \\\n",
    "             np.abs(self._d_avg_fit[-1] - self._d_avg_fit[-2]) < crit:\n",
    "            crit_achieved = True\n",
    "            stopped_at = 0\n",
    "            \n",
    "          # the algorithm:\n",
    "        for idx in range(maxiter):\n",
    "            if crit_achieved or idx > 2 and \\\n",
    "                  np.abs(temp_avg_fit[idx - 1] - temp_avg_fit[idx - 2]) < crit:\n",
    "                stopped_at = idx\n",
    "                crit_achieved = True\n",
    "                break\n",
    "            \n",
    "            if time_limit != 'inf' and timer() - start >= time_limit:\n",
    "                stopped_at = idx\n",
    "                break\n",
    "                \n",
    "            selected = self.__select(self._d_pop_size)\n",
    "            children = self.__crossover(selected)\n",
    "            self._d_pop = self.__mutate(children)\n",
    "            self.__update_fitness()\n",
    "            temp_max_fit[idx] = np.max(self._d_fitness)\n",
    "            temp_avg_fit[idx] = np.mean(self._d_fitness)\n",
    "            \n",
    "          # update timer (we do not want to count the time plotting takes):\n",
    "        self._d_time += timer() - start\n",
    "            \n",
    "        self._d_avg_fit = np.append(self._d_avg_fit, temp_avg_fit[:stopped_at])\n",
    "        self._d_max_fit = np.append(self._d_max_fit, temp_max_fit[:stopped_at])\n",
    "        \n",
    "          # plotting:\n",
    "        if plot:\n",
    "            plt.title(title)\n",
    "            plt.xlabel('Generations')\n",
    "            plt.ylabel('Fitness')\n",
    "            plt.plot(np.arange(start_length + stopped_at, dtype = int), \\\n",
    "                     self._d_avg_fit, label = 'Average fitness')\n",
    "            plt.plot(np.arange(start_length + stopped_at, dtype = int), \\\n",
    "                     self._d_max_fit, label = 'Best fitness')\n",
    "            plt.legend()\n",
    "            plt.show()\n",
    "            self.__give_additional()\n",
    "            \n",
    "        if time:\n",
    "            print('Time taken:', self._d_time, 'seconds')\n",
    "            \n",
    "        best_specimen = self._d_pop[np.argmax(self._d_fitness)]\n",
    "        \n",
    "        if ret:    \n",
    "            return self._d_avg_fit, self._d_max_fit, best_specimen, crit_achieved"
   ]
  },
  {
   "cell_type": "markdown",
   "id": "cecf8924",
   "metadata": {},
   "source": [
    "Initializing the population for TSP:"
   ]
  },
  {
   "cell_type": "code",
   "execution_count": 4,
   "id": "fbf18f86",
   "metadata": {},
   "outputs": [],
   "source": [
    "\n",
    "  # K-nearest neighbors as initialization, as suggested in [1]:\n",
    "def KNN_init(data, pop_size,  rng = rnd.default_rng()):\n",
    "    \n",
    "    data_size = np.shape(data)[0]\n",
    "              # indexing the data will be useful later:\n",
    "    idxed_data = np.concatenate((data, \\\n",
    "                   np.array([np.arange(data_size, dtype = int)]).T), axis = 1)\n",
    "              # the to be generated population:\n",
    "    perms = np.zeros(pop_size, dtype = object)\n",
    "              # generating the population:\n",
    "    for idx in range(pop_size):\n",
    "              # choosing a starting position:\n",
    "        start_pos = rnd.choice(np.arange(data_size))\n",
    "        perm = [start_pos]\n",
    "          \n",
    "              # choosing the nearest neigbor as the next place to visit\n",
    "              # (recursive function):\n",
    "        def find_nearest(arr_o_opts, current):\n",
    "            \n",
    "              # base case:\n",
    "            if arr_o_opts.size == 0:\n",
    "                return []\n",
    "            \n",
    "              # find index of nearest neighbor:\n",
    "            distances = np.linalg.norm(arr_o_opts[:, :2] - current[:2], axis = 1)\n",
    "            new_idx = np.argmin(distances)\n",
    "            new = int(arr_o_opts[new_idx, 2])\n",
    "              \n",
    "              # updating variables\n",
    "            current = arr_o_opts[new_idx]\n",
    "            arr_o_opts = np.delete(arr_o_opts, new_idx, axis = 0)\n",
    "            \n",
    "              # recursive call:\n",
    "            return [new] + find_nearest(arr_o_opts, current)\n",
    "        \n",
    "              # creating input and calling function:\n",
    "        current = idxed_data[start_pos]\n",
    "        arr_o_opts = np.delete(idxed_data, start_pos, 0)\n",
    "        perm += find_nearest(arr_o_opts, current)\n",
    "              # add to population:\n",
    "        perms[idx] = perm\n",
    "    return perms"
   ]
  },
  {
   "cell_type": "code",
   "execution_count": 5,
   "id": "4cf94745",
   "metadata": {},
   "outputs": [],
   "source": [
    "  # Random initialization:\n",
    "def RND_init(data, pop_size,  rng = rnd.default_rng()):   \n",
    "    data_size = np.shape(data)[0]\n",
    "              # the to be generated population:\n",
    "    perms = np.zeros(pop_size, dtype=object)\n",
    "              # generating the population:       \n",
    "    for idx in range(pop_size): \n",
    "        perm_size1 = np.shape(data)[0]\n",
    "        perms[idx] = list(rnd.choice(np.arange(perm_size1), perm_size1, replace = False))\n",
    "    return perms"
   ]
  },
  {
   "cell_type": "markdown",
   "id": "2c52008e",
   "metadata": {},
   "source": [
    "Performing a sanity check:"
   ]
  },
  {
   "cell_type": "code",
   "execution_count": 6,
   "id": "e9e2c6b4",
   "metadata": {},
   "outputs": [],
   "source": [
    "test_pop_size = 10          \n",
    "test_init = KNN_init(txt_data, test_pop_size)\n",
    "\n",
    "for idx in range(test_pop_size):\n",
    "    assert sum(test_init[idx]) == (txt_data_size) * (txt_data_size - 1) / 2"
   ]
  },
  {
   "cell_type": "markdown",
   "id": "ee759bd9",
   "metadata": {},
   "source": [
    "Defining crossover for TSP:"
   ]
  },
  {
   "cell_type": "code",
   "execution_count": 7,
   "id": "9f52ac1c",
   "metadata": {},
   "outputs": [],
   "source": [
    "def crossover_on_perms(perm1, perm2, pos1, pos2):\n",
    "    perm_len = len(perm1)\n",
    "    assert 0 < pos1 < pos2 < perm_len\n",
    "    \n",
    "    def init_new_perm(choice):\n",
    "        assert choice == 1 or choice == 2\n",
    "        if choice == 1:\n",
    "            perm = perm1\n",
    "            \n",
    "        elif choice == 2:\n",
    "            perm = perm2\n",
    "            \n",
    "        new_perm =  [-1] * perm_len\n",
    "        new_perm[pos1 : pos2] = perm[pos1 : pos2]\n",
    "        return new_perm\n",
    "    \n",
    "    new_perm1 = init_new_perm(1)\n",
    "    new_perm2 = init_new_perm(2)\n",
    "    \n",
    "    def fill_in_the_blanks(child_partial, other_parent):\n",
    "        order = [idx % perm_len for idx in range(pos2, perm_len + pos2)]\n",
    "        permute_parent = [other_parent[idx] for idx in order]\n",
    "        up_to = 0\n",
    "        for idx in order:\n",
    "            if child_partial[idx] != -1:\n",
    "                break\n",
    "            for idy in range(up_to, perm_len):\n",
    "                if permute_parent[idy] in child_partial[pos1 : pos2]:\n",
    "                    continue\n",
    "                else:\n",
    "                    child_partial[idx] = permute_parent[idy]\n",
    "                    up_to = idy + 1\n",
    "                    break\n",
    "    \n",
    "    fill_in_the_blanks(new_perm1, perm2)\n",
    "    fill_in_the_blanks(new_perm2, perm1)\n",
    "    \n",
    "    return new_perm1, new_perm2"
   ]
  },
  {
   "cell_type": "markdown",
   "id": "7fc845c2",
   "metadata": {},
   "source": [
    "Sanity check comparing defined function to the example from the slides:"
   ]
  },
  {
   "cell_type": "code",
   "execution_count": 8,
   "id": "a62794f6",
   "metadata": {},
   "outputs": [
    {
     "name": "stdout",
     "output_type": "stream",
     "text": [
      "first child = [5, 8, 7, 2, 1, 6, 3, 4]\n",
      "second child = [4, 2, 7, 6, 8, 1, 4, 3]\n"
     ]
    }
   ],
   "source": [
    "list1 = [3, 4, 7, 2, 1, 6, 4, 8]\n",
    "list2 = [2, 5, 7, 6, 8, 1, 3, 4]\n",
    "pos1 = 2\n",
    "pos2 = 6\n",
    "children = crossover_on_perms(list1, list2, pos1, pos2)\n",
    "print('first child =', children[0])\n",
    "print('second child =', children[1])"
   ]
  },
  {
   "cell_type": "markdown",
   "id": "9742d448",
   "metadata": {},
   "source": [
    "Defining permutation for TSP:"
   ]
  },
  {
   "cell_type": "code",
   "execution_count": 9,
   "id": "0550cb6b",
   "metadata": {},
   "outputs": [],
   "source": [
    "def mutation_on_perms(perm, pos1, pos2):\n",
    "    assert  0 <= pos1 < pos2 <= len(perm)\n",
    "    \n",
    "    temp_val1 = perm[pos1]\n",
    "    temp_val2 = perm[pos2]\n",
    "    \n",
    "    perm[pos1] = temp_val2\n",
    "    perm[pos2] = temp_val1\n",
    "    \n",
    "    return perm"
   ]
  },
  {
   "cell_type": "markdown",
   "id": "054df7ba",
   "metadata": {},
   "source": [
    "Sanity check comparing defined function to the example from the slides:"
   ]
  },
  {
   "cell_type": "code",
   "execution_count": 10,
   "id": "4ba91d96",
   "metadata": {},
   "outputs": [
    {
     "name": "stdout",
     "output_type": "stream",
     "text": [
      "[5, 8, 6, 2, 1, 7, 3, 4]\n"
     ]
    }
   ],
   "source": [
    "list3 = [5, 8, 7, 2, 1, 6, 3, 4]\n",
    "\n",
    "print(mutation_on_perms(list3, 2, 5))"
   ]
  },
  {
   "cell_type": "markdown",
   "id": "431d9b5c",
   "metadata": {},
   "source": [
    "**Pure EA algorithm for TSP:**"
   ]
  },
  {
   "cell_type": "code",
   "execution_count": 11,
   "id": "2f5eb08b",
   "metadata": {},
   "outputs": [],
   "source": [
    "class EA_TSP(ABC_EA):\n",
    "    \n",
    "    def __tot_distance(self, perm):\n",
    "        tot_sum = 0\n",
    "        for idx in range(len(perm) - 1):\n",
    "            tot_sum += np.linalg.norm(self._d_data[perm[idx + 1]] - self._d_data[perm[idx]])\n",
    "        return tot_sum\n",
    "    \n",
    "    \n",
    "    @staticmethod\n",
    "    def fitness_tf(x):\n",
    "        return (1000 / x) ** 4\n",
    "    \n",
    "    \n",
    "    def _ABC_EA__update_fitness(self):\n",
    "        for idx in range(self._d_pop_size):\n",
    "            self._d_fitness[idx] = self.fitness_tf(self.__tot_distance(self._d_pop[idx]))\n",
    "\n",
    "            \n",
    "    def __init__(self, data, pop_size, init_fun = RND_init, cross_prob = 0.4, mut_prob = 0.1, rng = rnd.default_rng()):\n",
    "        '''\n",
    "            Parameters:\n",
    "            ----------------------------------\n",
    "            init_fun [function : (data, pop_size, rng) |---> population]\n",
    "                Should initialize the population.\n",
    "                \n",
    "            See base class for other parameters.\n",
    "        '''\n",
    "        assert callable(init_fun)\n",
    "        self._d_data = data\n",
    "        super().__init__(pop_size, init_fun(data, pop_size, rng), \\\n",
    "                         cross_prob, mut_prob,  rng)\n",
    "            \n",
    "            \n",
    "          # perform a local optimization (none here):\n",
    "    def __local_opt(self, child):\n",
    "        return child\n",
    "        \n",
    "        \n",
    "    def _ABC_EA__crossover(self, parents):\n",
    "        parents_size = np.shape(parents)[0]\n",
    "        perm_size = len(parents[0])\n",
    "        children = parents\n",
    "        to_cross = np.where(self._d_rng.binomial(1, self._d_cross_prob, size = parents_size))[0]\n",
    "        \n",
    "        for idx in range(np.size(to_cross)):\n",
    "            if idx + 1 == np.size(to_cross):\n",
    "                break\n",
    "            posits = np.sort(self._d_rng.choice(np.arange(1, perm_size), 2, replace = False))\n",
    "            children[to_cross[idx]], children[to_cross[idx + 1]] = \\\n",
    "                crossover_on_perms(parents[to_cross[idx]], parents[to_cross[idx + 1]], posits[0], posits[1])\n",
    "            children[to_cross[idx]] = self.__local_opt(children[to_cross[idx]])\n",
    "            children[to_cross[idx + 1]] = self.__local_opt(children[to_cross[idx + 1]])\n",
    "        return children\n",
    "    \n",
    "        \n",
    "    def _ABC_EA__mutate(self, children):\n",
    "        children_size = np.shape(children)[0]\n",
    "        child_size = len(children[0])\n",
    "        to_mutate = np.where(self._d_rng.binomial(1, self._d_mut_prob, children_size))[0]\n",
    "        if np.size(to_mutate) != 0:\n",
    "            for idx in to_mutate:\n",
    "                posits = np.sort(self._d_rng.choice(np.arange(child_size), 2, replace = False))\n",
    "                children[idx] = mutation_on_perms(children[idx], posits[0], posits[1])\n",
    "                children[idx] = self.__local_opt(children[idx])\n",
    "        return children\n",
    "    \n",
    "    def _ABC_EA__give_additional(self):\n",
    "        distances = np.zeros(self._d_pop_size, dtype = object)\n",
    "        for idx in range(self._d_pop_size):\n",
    "            distances[idx] = self.__tot_distance(self._d_pop[idx])\n",
    "        print('Average distance:', np.mean(distances))\n",
    "        print('Shortest distance:', np.min(distances))\n",
    "        "
   ]
  },
  {
   "cell_type": "markdown",
   "id": "6ce909f1",
   "metadata": {},
   "source": [
    "Testing the implementation of EA_TSP:"
   ]
  },
  {
   "cell_type": "code",
   "execution_count": 12,
   "id": "929ac185",
   "metadata": {},
   "outputs": [
    {
     "data": {
      "image/png": "[encoded data removed]",
      "text/plain": [
       "<Figure size 432x288 with 1 Axes>"
      ]
     },
     "metadata": {
      "needs_background": "light"
     },
     "output_type": "display_data"
    },
    {
     "name": "stdout",
     "output_type": "stream",
     "text": [
      "Average distance: 249.19464640111974\n",
      "Shortest distance: 225.53480027910453\n",
      "Time taken: 30.024548000000003 seconds\n",
      "--------------------------------------------------\n"
     ]
    },
    {
     "data": {
      "image/png": "[encoded data removed]",
      "text/plain": [
       "<Figure size 432x288 with 1 Axes>"
      ]
     },
     "metadata": {
      "needs_background": "light"
     },
     "output_type": "display_data"
    },
    {
     "name": "stdout",
     "output_type": "stream",
     "text": [
      "Average distance: 126.46132579331038\n",
      "Shortest distance: 121.9745159542033\n",
      "Time taken: 30.398216700000006 seconds\n",
      "\n",
      "best rout: [47, 48, 49, 42, 41, 38, 40, 44, 43, 46, 45, 35, 31, 28, 29, 25, 22, 18, 15, 16, 13, 12, 7, 19, 27, 39, 21, 24, 17, 20, 23, 30, 33, 32, 36, 37, 34, 26, 14, 8, 6, 4, 3, 1, 0, 9, 10, 11, 5, 2]\n"
     ]
    }
   ],
   "source": [
    "ev_alg = EA_TSP(txt_data, 100,  mut_prob = 0.01, cross_prob = 0.2)\n",
    "ev_alg.optimize(1000, title = 'Test run Random init (EA)', plot = True, time = True, time_limit = 30)\n",
    "\n",
    "print('--------------------------------------------------')\n",
    "\n",
    "ev_alg1 = EA_TSP(txt_data, 1000, KNN_init, mut_prob = 0.01, cross_prob = 0.2)\n",
    "arr_avg, arr_max, best, _ = ev_alg1.optimize(200, title = 'Test run KNN init (EA)', \\\n",
    "                                             plot = True, ret = True, time = True, time_limit = 30)\n",
    "\n",
    "print('\\nbest rout:', best)"
   ]
  },
  {
   "cell_type": "markdown",
   "id": "4ca6d3f2",
   "metadata": {},
   "source": [
    "**Defining MA for TSP:**"
   ]
  },
  {
   "cell_type": "code",
   "execution_count": 13,
   "id": "5c681f79",
   "metadata": {},
   "outputs": [],
   "source": [
    "class MA_TSP(EA_TSP):\n",
    "\n",
    "    def __init__(self, data, pop_size, init_fun = RND_init, cross_prob = 0.4, \\\n",
    "                 mut_prob = 0.1, opt_it = 'inf', rng = rnd.default_rng()):\n",
    "        '''\n",
    "            Parameters:\n",
    "            ----------------------------------\n",
    "            opt_int [positive integer | 'inf']:\n",
    "                If `opt_int' is 'inf', then 2-opt will run untill no improvements\n",
    "                are made. If `opt_int' is an integer, we will apply 2-opt, `opt_int'\n",
    "                at most number of times every time we apply the local optimization.\n",
    "                \n",
    "            See base class for other parameters.\n",
    "        '''\n",
    "        super().__init__(data, pop_size, init_fun, cross_prob, mut_prob, rng)\n",
    "        self._d_opt_it = opt_it\n",
    "\n",
    "    \n",
    "    def _EA_TSP__local_opt(self, child):\n",
    "        opt_it = self._d_opt_it      \n",
    "          # apply 2-opt untill no improvements are made, or untill opt_it is zero:\n",
    "        while True:\n",
    "            if opt_it == 0:\n",
    "                break\n",
    "                \n",
    "            current_dist = self._EA_TSP__tot_distance(child)                \n",
    "            \n",
    "            for idx in range(len(self._d_data[0])):\n",
    "                for idy in range(idx + 1, len(self._d_data[0])):\n",
    "                    child = self.__two_opt_step(child, idx, idy)\n",
    "            \n",
    "            new_dist = self._EA_TSP__tot_distance(child)  \n",
    "            \n",
    "            if new_dist > current_dist:\n",
    "                current_dist = new_dist\n",
    "                \n",
    "                if opt_it != 'inf':\n",
    "                    opt_it -= 1\n",
    "            else:\n",
    "                break\n",
    "        return child\n",
    "    \n",
    "    \n",
    "    def update_hyps(self, cross_prob = 'UNDEF', mut_prob = 'UNDEF', opt_it = 'UNDEF'):\n",
    "        super().update_hyps(cross_prob = 'UNDEF', mut_prob = 'UNDEF')\n",
    "        if opt_it != 'UNDEF':\n",
    "            self._d_opt_it = opt_it\n",
    "            \n",
    "        \n",
    "    def __two_opt_step(self, perm, pos1, pos2):\n",
    "        assert 0 <= pos1 < pos2 <= len(perm)\n",
    "          # reversing has no effect:\n",
    "        if pos1 == 0 and pos2 == len(perm):\n",
    "            return perm\n",
    "        \n",
    "        current_dist = self._EA_TSP__tot_distance(perm)\n",
    "        \n",
    "        alt_perm = perm[: pos1] + perm[pos1 : pos2][:: -1] + perm[pos2 :]\n",
    "        alt_dist = self._EA_TSP__tot_distance(alt_perm)\n",
    "        \n",
    "        if alt_dist > current_dist:\n",
    "            return alt_perm\n",
    "        else:\n",
    "            return perm\n"
   ]
  },
  {
   "cell_type": "markdown",
   "id": "5de18824",
   "metadata": {},
   "source": [
    "Testing the implementation of MA_TSP:"
   ]
  },
  {
   "cell_type": "code",
   "execution_count": 14,
   "id": "c467a5d5",
   "metadata": {},
   "outputs": [
    {
     "data": {
      "image/png": "[encoded data removed]",
      "text/plain": [
       "<Figure size 432x288 with 1 Axes>"
      ]
     },
     "metadata": {
      "needs_background": "light"
     },
     "output_type": "display_data"
    },
    {
     "name": "stdout",
     "output_type": "stream",
     "text": [
      "Average distance: 289.8418290480708\n",
      "Shortest distance: 266.2553983002023\n",
      "Time taken: 30.0653631 seconds\n",
      "--------------------------------------------------\n"
     ]
    },
    {
     "data": {
      "image/png": "[encoded data removed]",
      "text/plain": [
       "<Figure size 432x288 with 1 Axes>"
      ]
     },
     "metadata": {
      "needs_background": "light"
     },
     "output_type": "display_data"
    },
    {
     "name": "stdout",
     "output_type": "stream",
     "text": [
      "Average distance: 128.40207660139131\n",
      "Shortest distance: 121.9745159542033\n",
      "Time taken: 30.100771400000014 seconds\n",
      "\n",
      "best rout: [47, 48, 49, 42, 41, 38, 40, 44, 43, 46, 45, 35, 31, 28, 29, 25, 22, 18, 15, 16, 13, 12, 7, 19, 27, 39, 21, 24, 17, 20, 23, 30, 33, 32, 36, 37, 34, 26, 14, 8, 6, 4, 3, 1, 0, 9, 10, 11, 5, 2]\n"
     ]
    }
   ],
   "source": [
    "mn_alg = MA_TSP(txt_data, 100,  mut_prob = 0.01, cross_prob = 0.2)\n",
    "mn_alg.optimize(1000, title = 'Test run 1 (MA)', plot = True, time = True, time_limit = 30)\n",
    "\n",
    "print('--------------------------------------------------')\n",
    "\n",
    "mn_alg1 = MA_TSP(txt_data, 100, KNN_init, mut_prob = 0.01, cross_prob = 0.2)\n",
    "arr_avg, arr_max, best, _ = mn_alg1.optimize(1000, title = 'Test run KNN init (MA)', \\\n",
    "                                             plot = True, ret = True, time = True, time_limit = 30)\n",
    "\n",
    "print('\\nbest rout:', best)"
   ]
  },
  {
   "cell_type": "markdown",
   "id": "f26521ca",
   "metadata": {},
   "source": [
    "**(b)**"
   ]
  },
  {
   "cell_type": "code",
   "execution_count": null,
   "id": "35cd5369",
   "metadata": {},
   "outputs": [],
   "source": []
  },
  {
   "cell_type": "markdown",
   "id": "1821bc4a",
   "metadata": {},
   "source": [
    "**(c)**"
   ]
  },
  {
   "cell_type": "code",
   "execution_count": null,
   "id": "cdad9f0f",
   "metadata": {},
   "outputs": [],
   "source": []
  },
  {
   "cell_type": "markdown",
   "id": "edd7d777",
   "metadata": {},
   "source": [
    "**(d)**"
   ]
  },
  {
   "cell_type": "code",
   "execution_count": null,
   "id": "97144c90",
   "metadata": {},
   "outputs": [],
   "source": []
  },
  {
   "cell_type": "markdown",
   "id": "2d02f8e5",
   "metadata": {},
   "source": [
    "**(e)**"
   ]
  },
  {
   "cell_type": "code",
   "execution_count": null,
   "id": "97df6c95",
   "metadata": {},
   "outputs": [],
   "source": []
  },
  {
   "cell_type": "markdown",
   "id": "b090377a",
   "metadata": {},
   "source": [
    "**(f)**"
   ]
  },
  {
   "cell_type": "code",
   "execution_count": null,
   "id": "5fbaf679",
   "metadata": {},
   "outputs": [],
   "source": []
  },
  {
   "cell_type": "markdown",
   "id": "6032a930",
   "metadata": {},
   "source": [
    "## References:\n",
    "\n",
    "[1] Automatic Combination of Operators in a Genetic Algorithm to Solve the Traveling Salesman Problem"
   ]
  },
  {
   "cell_type": "code",
   "execution_count": null,
   "id": "9f6e4b3f",
   "metadata": {},
   "outputs": [],
   "source": []
  },
  {
   "cell_type": "code",
   "execution_count": null,
   "id": "4ca385ef",
   "metadata": {},
   "outputs": [],
   "source": []
  }
 ],
 "metadata": {
  "kernelspec": {
   "display_name": "Python 3 (ipykernel)",
   "language": "python",
   "name": "python3"
  },
  "language_info": {
   "codemirror_mode": {
    "name": "ipython",
    "version": 3
   },
   "file_extension": ".py",
   "mimetype": "text/x-python",
   "name": "python",
   "nbconvert_exporter": "python",
   "pygments_lexer": "ipython3",
   "version": "3.8.11"
  }
 },
 "nbformat": 4,
 "nbformat_minor": 5
}
